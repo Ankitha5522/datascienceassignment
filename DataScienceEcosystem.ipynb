{
 "cells": [
  {
   "cell_type": "markdown",
   "id": "fce58936",
   "metadata": {},
   "source": [
    "# Data Science Tools"
   ]
  },
  {
   "cell_type": "markdown",
   "id": "ff2f4685",
   "metadata": {},
   "source": [
    "Data science tools and the ecosystem have revolutionized the way we analyze, interpret, and extract valuable insights from vast amounts of data."
   ]
  },
  {
   "cell_type": "markdown",
   "id": "52ec6195",
   "metadata": {},
   "source": [
    "**Objectives:**\n",
    "\n",
    "- List popular languages for Data Science.\n",
    "- Introduce arithmetic expressions in Python.\n",
    "- Data science environments\n",
    "- Demonstrate converting minutes to hours using Python.\n",
    "- Highlight open-source development environment tools used in Data Science."
   ]
  },
  {
   "cell_type": "markdown",
   "id": "b43367ee",
   "metadata": {},
   "source": [
    "Some of the popular languages that Data Scientists use are:\n",
    "1. Python\n",
    "2. R\n",
    "3. SQL\n",
    "4. Java\n",
    "5. Julia\n",
    "6. Scala\n",
    "7. javascript\n",
    "8. c/c++"
   ]
  },
  {
   "cell_type": "markdown",
   "id": "e7757d96",
   "metadata": {},
   "source": [
    "Some of the commonly used libraries used by Data Scientists include:\n",
    "1. Tensorflow\n",
    "2. Numpy\n",
    "3. pandas\n",
    "4. Matplotlib\n",
    "5. Scikit-learn\n",
    "6. Pytorch\n",
    "7. Seaborn\n",
    "8. Keras\n",
    "9. NLTK\n",
    "10. plotly\n",
    "11. ggplot"
   ]
  },
  {
   "cell_type": "markdown",
   "id": "9dbedcb1",
   "metadata": {},
   "source": [
    "| Data Science Tools |\n",
    "|-------------------|\n",
    "| Jupyter Notebook  |\n",
    "| RStudio           |\n",
    "| VS Code           |\n"
   ]
  },
  {
   "cell_type": "markdown",
   "id": "8c2cea3d",
   "metadata": {},
   "source": [
    "### Below are a few examples of evaluating arithmetic expressions in Python "
   ]
  },
  {
   "cell_type": "code",
   "execution_count": 1,
   "id": "0a46fbcf",
   "metadata": {},
   "outputs": [
    {
     "data": {
      "text/plain": [
       "17"
      ]
     },
     "execution_count": 1,
     "metadata": {},
     "output_type": "execute_result"
    }
   ],
   "source": [
    "#This a simple arithmetic expression to mutiply then add integers\n",
    "(3*4)+5"
   ]
  },
  {
   "cell_type": "code",
   "execution_count": 2,
   "id": "318648f3",
   "metadata": {},
   "outputs": [
    {
     "name": "stdout",
     "output_type": "stream",
     "text": [
      "3.3333333333333335\n"
     ]
    }
   ],
   "source": [
    "# This will convert 200 minutes to hours by dividing by 60.\n",
    "minutes = 200\n",
    "hours = minutes / 60\n",
    "print(hours)  # Output: 3.3333333333333335"
   ]
  },
  {
   "cell_type": "markdown",
   "id": "55410634",
   "metadata": {},
   "source": [
    "## Author\n",
    "Ankitha N"
   ]
  },
  {
   "cell_type": "code",
   "execution_count": null,
   "id": "f7a21725",
   "metadata": {},
   "outputs": [],
   "source": []
  }
 ],
 "metadata": {
  "kernelspec": {
   "display_name": "Python 3 (ipykernel)",
   "language": "python",
   "name": "python3"
  },
  "language_info": {
   "codemirror_mode": {
    "name": "ipython",
    "version": 3
   },
   "file_extension": ".py",
   "mimetype": "text/x-python",
   "name": "python",
   "nbconvert_exporter": "python",
   "pygments_lexer": "ipython3",
   "version": "3.10.9"
  }
 },
 "nbformat": 4,
 "nbformat_minor": 5
}
